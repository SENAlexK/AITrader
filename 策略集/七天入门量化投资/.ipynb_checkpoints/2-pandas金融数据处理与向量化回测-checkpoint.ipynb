{
 "cells": [
  {
   "cell_type": "code",
   "execution_count": 71,
   "id": "1d3ae2aa",
   "metadata": {
    "ExecuteTime": {
     "end_time": "2025-01-26T08:34:33.373844Z",
     "start_time": "2025-01-26T08:34:33.350873900Z"
    }
   },
   "outputs": [
    {
     "data": {
      "text/plain": "             open  close   high    low   volume     symbol\ndate                                                      \n2011-12-09  0.795  0.797  0.814  0.795  1061772  159915.SZ\n2011-12-12  0.790  0.790  0.803  0.790   311065  159915.SZ\n2011-12-13  0.788  0.768  0.788  0.763   967444  159915.SZ\n2011-12-14  0.768  0.760  0.777  0.755   816095  159915.SZ\n2011-12-15  0.755  0.752  0.764  0.747   417005  159915.SZ\n...           ...    ...    ...    ...      ...        ...\n2024-05-22  1.819  1.820  1.825  1.816   763988  159915.SZ\n2024-05-23  1.837  1.811  1.837  1.807  6599889  159915.SZ\n2024-05-24  1.804  1.781  1.821  1.778  6828319  159915.SZ\n2024-05-27  1.784  1.770  1.788  1.767  1965943  159915.SZ\n2024-05-28  1.784  1.784  1.786  1.781   261221  159915.SZ\n\n[3025 rows x 6 columns]",
      "text/html": "<div>\n<style scoped>\n    .dataframe tbody tr th:only-of-type {\n        vertical-align: middle;\n    }\n\n    .dataframe tbody tr th {\n        vertical-align: top;\n    }\n\n    .dataframe thead th {\n        text-align: right;\n    }\n</style>\n<table border=\"1\" class=\"dataframe\">\n  <thead>\n    <tr style=\"text-align: right;\">\n      <th></th>\n      <th>open</th>\n      <th>close</th>\n      <th>high</th>\n      <th>low</th>\n      <th>volume</th>\n      <th>symbol</th>\n    </tr>\n    <tr>\n      <th>date</th>\n      <th></th>\n      <th></th>\n      <th></th>\n      <th></th>\n      <th></th>\n      <th></th>\n    </tr>\n  </thead>\n  <tbody>\n    <tr>\n      <th>2011-12-09</th>\n      <td>0.795</td>\n      <td>0.797</td>\n      <td>0.814</td>\n      <td>0.795</td>\n      <td>1061772</td>\n      <td>159915.SZ</td>\n    </tr>\n    <tr>\n      <th>2011-12-12</th>\n      <td>0.790</td>\n      <td>0.790</td>\n      <td>0.803</td>\n      <td>0.790</td>\n      <td>311065</td>\n      <td>159915.SZ</td>\n    </tr>\n    <tr>\n      <th>2011-12-13</th>\n      <td>0.788</td>\n      <td>0.768</td>\n      <td>0.788</td>\n      <td>0.763</td>\n      <td>967444</td>\n      <td>159915.SZ</td>\n    </tr>\n    <tr>\n      <th>2011-12-14</th>\n      <td>0.768</td>\n      <td>0.760</td>\n      <td>0.777</td>\n      <td>0.755</td>\n      <td>816095</td>\n      <td>159915.SZ</td>\n    </tr>\n    <tr>\n      <th>2011-12-15</th>\n      <td>0.755</td>\n      <td>0.752</td>\n      <td>0.764</td>\n      <td>0.747</td>\n      <td>417005</td>\n      <td>159915.SZ</td>\n    </tr>\n    <tr>\n      <th>...</th>\n      <td>...</td>\n      <td>...</td>\n      <td>...</td>\n      <td>...</td>\n      <td>...</td>\n      <td>...</td>\n    </tr>\n    <tr>\n      <th>2024-05-22</th>\n      <td>1.819</td>\n      <td>1.820</td>\n      <td>1.825</td>\n      <td>1.816</td>\n      <td>763988</td>\n      <td>159915.SZ</td>\n    </tr>\n    <tr>\n      <th>2024-05-23</th>\n      <td>1.837</td>\n      <td>1.811</td>\n      <td>1.837</td>\n      <td>1.807</td>\n      <td>6599889</td>\n      <td>159915.SZ</td>\n    </tr>\n    <tr>\n      <th>2024-05-24</th>\n      <td>1.804</td>\n      <td>1.781</td>\n      <td>1.821</td>\n      <td>1.778</td>\n      <td>6828319</td>\n      <td>159915.SZ</td>\n    </tr>\n    <tr>\n      <th>2024-05-27</th>\n      <td>1.784</td>\n      <td>1.770</td>\n      <td>1.788</td>\n      <td>1.767</td>\n      <td>1965943</td>\n      <td>159915.SZ</td>\n    </tr>\n    <tr>\n      <th>2024-05-28</th>\n      <td>1.784</td>\n      <td>1.784</td>\n      <td>1.786</td>\n      <td>1.781</td>\n      <td>261221</td>\n      <td>159915.SZ</td>\n    </tr>\n  </tbody>\n</table>\n<p>3025 rows × 6 columns</p>\n</div>"
     },
     "execution_count": 71,
     "metadata": {},
     "output_type": "execute_result"
    }
   ],
   "source": [
    "import pandas as pd\n",
    "%matplotlib inline\n",
    "import warnings\n",
    "warnings.simplefilter(action='ignore', category=FutureWarning)\n",
    "\n",
    "def get_data(symbol):\n",
    "    data = pd.read_csv('data/{}.csv'.format(symbol))\n",
    "    data['date'] = data['date'].apply(lambda x: str(x))\n",
    "    data.set_index('date', inplace=True)\n",
    "    data.sort_index(ascending=True, inplace=True)\n",
    "    data.index = pd.to_datetime(data.index)\n",
    "    return data\n",
    "\n",
    "df = get_data('159915.SZ')\n",
    "df"
   ]
  },
  {
   "cell_type": "code",
   "execution_count": 72,
   "id": "ec3c2e20",
   "metadata": {
    "ExecuteTime": {
     "end_time": "2025-01-26T08:34:34.352944100Z",
     "start_time": "2025-01-26T08:34:34.341411500Z"
    }
   },
   "outputs": [
    {
     "data": {
      "text/plain": "date\n2011-12-09         NaN\n2011-12-12         NaN\n2011-12-13         NaN\n2011-12-14         NaN\n2011-12-15         NaN\n                ...   \n2024-05-22    0.067449\n2024-05-23    0.063417\n2024-05-24    0.044575\n2024-05-27    0.029668\n2024-05-28    0.039627\nName: close, Length: 3025, dtype: float64"
     },
     "execution_count": 72,
     "metadata": {},
     "output_type": "execute_result"
    }
   ],
   "source": [
    "factor = df['close'].pct_change(20)\n",
    "factor"
   ]
  },
  {
   "cell_type": "code",
   "execution_count": 73,
   "id": "ed6d758e",
   "metadata": {
    "ExecuteTime": {
     "end_time": "2025-01-26T08:34:35.378162100Z",
     "start_time": "2025-01-26T08:34:35.368669400Z"
    }
   },
   "outputs": [
    {
     "data": {
      "text/plain": "date\n2011-12-09         NaN\n2011-12-12         NaN\n2011-12-13         NaN\n2011-12-14         NaN\n2011-12-15         NaN\n                ...   \n2024-05-22    0.067449\n2024-05-23    0.063417\n2024-05-24    0.044575\n2024-05-27    0.029668\n2024-05-28    0.039627\nName: close, Length: 3025, dtype: float64"
     },
     "execution_count": 73,
     "metadata": {},
     "output_type": "execute_result"
    }
   ],
   "source": [
    "factor2 = df['close']/df['close'].shift(20)-1\n",
    "factor2"
   ]
  },
  {
   "cell_type": "code",
   "execution_count": 74,
   "id": "e44aa9ce",
   "metadata": {
    "ExecuteTime": {
     "end_time": "2025-01-26T08:34:36.542632400Z",
     "start_time": "2025-01-26T08:34:36.527820300Z"
    }
   },
   "outputs": [
    {
     "data": {
      "text/plain": "date\n2011-12-09    0.0\n2011-12-12    0.0\n2011-12-13    0.0\n2011-12-14    0.0\n2011-12-15    0.0\n             ... \n2024-05-22    0.0\n2024-05-23    0.0\n2024-05-24    0.0\n2024-05-27    0.0\n2024-05-28    0.0\nLength: 3025, dtype: float64"
     },
     "execution_count": 74,
     "metadata": {},
     "output_type": "execute_result"
    }
   ],
   "source": [
    "import numpy as np\n",
    "\n",
    "signal = np.where(factor>0.08,1,np.nan)\n",
    "signal = np.where(factor<0,0,signal)\n",
    "signal = pd.Series(signal,df.index)\n",
    "signal = signal.ffill()\n",
    "signal = signal.fillna(0)\n",
    "signal"
   ]
  },
  {
   "cell_type": "code",
   "execution_count": 75,
   "id": "d0d4afe6",
   "metadata": {
    "ExecuteTime": {
     "end_time": "2025-01-26T08:34:39.637040100Z",
     "start_time": "2025-01-26T08:34:39.577230100Z"
    }
   },
   "outputs": [
    {
     "data": {
      "text/plain": "<Axes: xlabel='date'>"
     },
     "execution_count": 75,
     "metadata": {},
     "output_type": "execute_result"
    }
   ],
   "source": [
    "signal.plot()"
   ]
  },
  {
   "cell_type": "code",
   "execution_count": 67,
   "id": "89f9a0f5",
   "metadata": {
    "ExecuteTime": {
     "end_time": "2025-01-26T08:33:47.907375400Z",
     "start_time": "2025-01-26T08:33:47.870848300Z"
    }
   },
   "outputs": [
    {
     "data": {
      "text/plain": "date\n2011-12-09         NaN\n2011-12-12    1.000000\n2011-12-13    1.000000\n2011-12-14    1.000000\n2011-12-15    1.000000\n                ...   \n2024-05-22    8.196599\n2024-05-23    8.196599\n2024-05-24    8.196599\n2024-05-27    8.196599\n2024-05-28    8.196599\nLength: 3025, dtype: float64"
     },
     "execution_count": 67,
     "metadata": {},
     "output_type": "execute_result"
    }
   ],
   "source": [
    "daily_returns = df['close'].pct_change()\n",
    "strategy_returns = signal.shift(1) * daily_returns\n",
    "# 计算累积收益\n",
    "portfolio_value = (1 + strategy_returns).cumprod()\n",
    "portfolio_value"
   ]
  },
  {
   "cell_type": "code",
   "execution_count": 68,
   "id": "4061e4cd",
   "metadata": {
    "ExecuteTime": {
     "end_time": "2025-01-26T08:33:48.915540500Z",
     "start_time": "2025-01-26T08:33:48.867629400Z"
    }
   },
   "outputs": [
    {
     "data": {
      "text/plain": "<Axes: xlabel='date'>"
     },
     "execution_count": 68,
     "metadata": {},
     "output_type": "execute_result"
    }
   ],
   "source": [
    "portfolio_value.plot()"
   ]
  },
  {
   "cell_type": "code",
   "execution_count": 69,
   "id": "732fec24",
   "metadata": {
    "ExecuteTime": {
     "end_time": "2025-01-26T08:33:49.778940Z",
     "start_time": "2025-01-26T08:33:49.766744400Z"
    }
   },
   "outputs": [
    {
     "name": "stdout",
     "output_type": "stream",
     "text": [
      "策略总收益 7.196599352013246\n"
     ]
    }
   ],
   "source": [
    "print('策略总收益',portfolio_value[-1]-1)"
   ]
  },
  {
   "cell_type": "code",
   "execution_count": 70,
   "id": "9773a11a",
   "metadata": {
    "ExecuteTime": {
     "end_time": "2025-01-26T08:33:50.619928800Z",
     "start_time": "2025-01-26T08:33:50.609250800Z"
    }
   },
   "outputs": [
    {
     "name": "stdout",
     "output_type": "stream",
     "text": [
      "年化收益 17.9 %\n"
     ]
    }
   ],
   "source": [
    "cagr = (portfolio_value[-1]-1) ** (252 / len(df)) - 1\n",
    "print('年化收益',round(cagr*100,1),'%')"
   ]
  }
 ],
 "metadata": {
  "kernelspec": {
   "display_name": "Python 3 (ipykernel)",
   "language": "python",
   "name": "python3"
  },
  "language_info": {
   "codemirror_mode": {
    "name": "ipython",
    "version": 3
   },
   "file_extension": ".py",
   "mimetype": "text/x-python",
   "name": "python",
   "nbconvert_exporter": "python",
   "pygments_lexer": "ipython3",
   "version": "3.9.10"
  }
 },
 "nbformat": 4,
 "nbformat_minor": 5
}
