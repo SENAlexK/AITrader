{
 "cells": [
  {
   "cell_type": "code",
   "execution_count": 10,
   "id": "1d3ae2aa",
   "metadata": {
    "ExecuteTime": {
     "end_time": "2025-01-26T10:42:48.326528600Z",
     "start_time": "2025-01-26T10:42:48.271619Z"
    }
   },
   "outputs": [
    {
     "data": {
      "text/plain": "                 open       high        low      close        volume  \\\ndate                                                                   \n2005-01-04   994.7690   994.7690   980.6580   982.7940  7.412869e+06   \n2005-01-05   981.5770   997.3230   979.8770   992.5640  7.119109e+06   \n2005-01-06   993.3310   993.7880   980.3300   983.1740  6.288029e+06   \n2005-01-07   983.0450   995.7110   979.8120   983.9580  7.298694e+06   \n2005-01-10   983.7600   993.9590   979.7890   993.8790  5.791698e+06   \n...               ...        ...        ...        ...           ...   \n2024-08-29  3273.5410  3290.7857  3269.5288  3277.6812  1.307023e+08   \n2024-08-30  3273.7532  3351.6254  3273.6496  3321.4323  1.886954e+08   \n2024-09-02  3307.5432  3307.7627  3264.7565  3265.0110  1.476124e+08   \n2024-09-03  3261.7410  3281.5935  3261.1877  3273.4282  1.228973e+08   \n2024-09-04  3253.8980  3272.9861  3249.9809  3252.1649  1.048325e+08   \n\n            openinterest  \ndate                      \n2005-01-04             0  \n2005-01-05             0  \n2005-01-06             0  \n2005-01-07             0  \n2005-01-10             0  \n...                  ...  \n2024-08-29             0  \n2024-08-30             0  \n2024-09-02             0  \n2024-09-03             0  \n2024-09-04             0  \n\n[4781 rows x 6 columns]",
      "text/html": "<div>\n<style scoped>\n    .dataframe tbody tr th:only-of-type {\n        vertical-align: middle;\n    }\n\n    .dataframe tbody tr th {\n        vertical-align: top;\n    }\n\n    .dataframe thead th {\n        text-align: right;\n    }\n</style>\n<table border=\"1\" class=\"dataframe\">\n  <thead>\n    <tr style=\"text-align: right;\">\n      <th></th>\n      <th>open</th>\n      <th>high</th>\n      <th>low</th>\n      <th>close</th>\n      <th>volume</th>\n      <th>openinterest</th>\n    </tr>\n    <tr>\n      <th>date</th>\n      <th></th>\n      <th></th>\n      <th></th>\n      <th></th>\n      <th></th>\n      <th></th>\n    </tr>\n  </thead>\n  <tbody>\n    <tr>\n      <th>2005-01-04</th>\n      <td>994.7690</td>\n      <td>994.7690</td>\n      <td>980.6580</td>\n      <td>982.7940</td>\n      <td>7.412869e+06</td>\n      <td>0</td>\n    </tr>\n    <tr>\n      <th>2005-01-05</th>\n      <td>981.5770</td>\n      <td>997.3230</td>\n      <td>979.8770</td>\n      <td>992.5640</td>\n      <td>7.119109e+06</td>\n      <td>0</td>\n    </tr>\n    <tr>\n      <th>2005-01-06</th>\n      <td>993.3310</td>\n      <td>993.7880</td>\n      <td>980.3300</td>\n      <td>983.1740</td>\n      <td>6.288029e+06</td>\n      <td>0</td>\n    </tr>\n    <tr>\n      <th>2005-01-07</th>\n      <td>983.0450</td>\n      <td>995.7110</td>\n      <td>979.8120</td>\n      <td>983.9580</td>\n      <td>7.298694e+06</td>\n      <td>0</td>\n    </tr>\n    <tr>\n      <th>2005-01-10</th>\n      <td>983.7600</td>\n      <td>993.9590</td>\n      <td>979.7890</td>\n      <td>993.8790</td>\n      <td>5.791698e+06</td>\n      <td>0</td>\n    </tr>\n    <tr>\n      <th>...</th>\n      <td>...</td>\n      <td>...</td>\n      <td>...</td>\n      <td>...</td>\n      <td>...</td>\n      <td>...</td>\n    </tr>\n    <tr>\n      <th>2024-08-29</th>\n      <td>3273.5410</td>\n      <td>3290.7857</td>\n      <td>3269.5288</td>\n      <td>3277.6812</td>\n      <td>1.307023e+08</td>\n      <td>0</td>\n    </tr>\n    <tr>\n      <th>2024-08-30</th>\n      <td>3273.7532</td>\n      <td>3351.6254</td>\n      <td>3273.6496</td>\n      <td>3321.4323</td>\n      <td>1.886954e+08</td>\n      <td>0</td>\n    </tr>\n    <tr>\n      <th>2024-09-02</th>\n      <td>3307.5432</td>\n      <td>3307.7627</td>\n      <td>3264.7565</td>\n      <td>3265.0110</td>\n      <td>1.476124e+08</td>\n      <td>0</td>\n    </tr>\n    <tr>\n      <th>2024-09-03</th>\n      <td>3261.7410</td>\n      <td>3281.5935</td>\n      <td>3261.1877</td>\n      <td>3273.4282</td>\n      <td>1.228973e+08</td>\n      <td>0</td>\n    </tr>\n    <tr>\n      <th>2024-09-04</th>\n      <td>3253.8980</td>\n      <td>3272.9861</td>\n      <td>3249.9809</td>\n      <td>3252.1649</td>\n      <td>1.048325e+08</td>\n      <td>0</td>\n    </tr>\n  </tbody>\n</table>\n<p>4781 rows × 6 columns</p>\n</div>"
     },
     "execution_count": 10,
     "metadata": {},
     "output_type": "execute_result"
    }
   ],
   "source": [
    "import talib\n",
    "import pandas as pd\n",
    "%matplotlib inline\n",
    "import warnings\n",
    "\n",
    "# 屏蔽FutureWarning\n",
    "warnings.simplefilter(action='ignore', category=FutureWarning)\n",
    "\n",
    "# 你的代码...\n",
    "\n",
    "def get_data(symbol):\n",
    "    data = pd.read_csv('data/{}.csv'.format(symbol))\n",
    "    data['date'] = data['date'].apply(lambda x: str(x))\n",
    "    data.set_index('date', inplace=True)\n",
    "    data.sort_index(ascending=True, inplace=True)\n",
    "    data.index = pd.to_datetime(data.index)\n",
    "    data['openinterest'] = 0\n",
    "    data = data[['open', 'high', 'low', 'close', 'volume', 'openinterest']]\n",
    "    return data\n",
    "\n",
    "data = get_data('000300.SH')\n",
    "data"
   ]
  },
  {
   "cell_type": "code",
   "execution_count": 11,
   "id": "e44aa9ce",
   "metadata": {
    "ExecuteTime": {
     "end_time": "2025-01-26T10:42:48.329528300Z",
     "start_time": "2025-01-26T10:42:48.308883800Z"
    }
   },
   "outputs": [
    {
     "name": "stdout",
     "output_type": "stream",
     "text": [
      "累计收益 2.3091012969147147\n"
     ]
    }
   ],
   "source": [
    "close = data['close']\n",
    "print('累计收益', close[-1]/close[0] -1)"
   ]
  },
  {
   "cell_type": "code",
   "execution_count": 12,
   "id": "89f9a0f5",
   "metadata": {
    "ExecuteTime": {
     "end_time": "2025-01-26T10:42:48.386494200Z",
     "start_time": "2025-01-26T10:42:48.324528200Z"
    }
   },
   "outputs": [
    {
     "name": "stdout",
     "output_type": "stream",
     "text": [
      "年化收益 0.06510692832596443\n"
     ]
    }
   ],
   "source": [
    "CAGR = (close[-1]/close[0]) ** (252/len(close))-1\n",
    "print('年化收益',CAGR)"
   ]
  },
  {
   "cell_type": "code",
   "execution_count": 13,
   "id": "9773a11a",
   "metadata": {
    "ExecuteTime": {
     "end_time": "2025-01-26T10:42:48.412388600Z",
     "start_time": "2025-01-26T10:42:48.340555300Z"
    }
   },
   "outputs": [
    {
     "data": {
      "text/plain": "date\n2005-01-04         NaN\n2005-01-05    0.009941\n2005-01-06   -0.009460\n2005-01-07    0.000797\n2005-01-10    0.010083\n                ...   \n2024-08-29   -0.002682\n2024-08-30    0.013348\n2024-09-02   -0.016987\n2024-09-03    0.002578\n2024-09-04   -0.006496\nName: close, Length: 4781, dtype: float64"
     },
     "execution_count": 13,
     "metadata": {},
     "output_type": "execute_result"
    }
   ],
   "source": [
    "returns = close.pct_change()\n",
    "returns"
   ]
  },
  {
   "cell_type": "code",
   "execution_count": 14,
   "id": "d3998ca7",
   "metadata": {
    "ExecuteTime": {
     "end_time": "2025-01-26T10:42:48.413478600Z",
     "start_time": "2025-01-26T10:42:48.354707500Z"
    }
   },
   "outputs": [
    {
     "data": {
      "text/plain": "np.float64(0.2549282437612615)"
     },
     "execution_count": 14,
     "metadata": {},
     "output_type": "execute_result"
    }
   ],
   "source": [
    "std = returns.std()*(252**0.5)\n",
    "std"
   ]
  },
  {
   "cell_type": "code",
   "execution_count": 15,
   "id": "509ecb4c",
   "metadata": {
    "ExecuteTime": {
     "end_time": "2025-01-26T10:42:48.479202200Z",
     "start_time": "2025-01-26T10:42:48.370445500Z"
    }
   },
   "outputs": [
    {
     "data": {
      "text/plain": "np.float64(0.2553931544240214)"
     },
     "execution_count": 15,
     "metadata": {},
     "output_type": "execute_result"
    }
   ],
   "source": [
    "SR = CAGR/std\n",
    "SR"
   ]
  },
  {
   "cell_type": "code",
   "execution_count": 16,
   "id": "c96cd8bd",
   "metadata": {
    "ExecuteTime": {
     "end_time": "2025-01-26T10:42:48.521784800Z",
     "start_time": "2025-01-26T10:42:48.386494200Z"
    }
   },
   "outputs": [
    {
     "data": {
      "text/plain": "np.float64(-0.723)"
     },
     "execution_count": 16,
     "metadata": {},
     "output_type": "execute_result"
    }
   ],
   "source": [
    "equity = (1+returns).cumprod()\n",
    "mdd = round((equity / equity.expanding(min_periods=1).max()).min() - 1, 3)\n",
    "mdd"
   ]
  },
  {
   "cell_type": "code",
   "execution_count": 17,
   "id": "84d8a196",
   "metadata": {
    "ExecuteTime": {
     "end_time": "2025-01-26T10:42:48.564562300Z",
     "start_time": "2025-01-26T10:42:48.401375500Z"
    }
   },
   "outputs": [
    {
     "data": {
      "text/plain": "np.float64(0.09005107652277239)"
     },
     "execution_count": 17,
     "metadata": {},
     "output_type": "execute_result"
    }
   ],
   "source": [
    "kama = CAGR / abs(mdd)\n",
    "kama"
   ]
  },
  {
   "cell_type": "code",
   "execution_count": 18,
   "id": "b844730d",
   "metadata": {
    "ExecuteTime": {
     "end_time": "2025-01-26T10:42:49.747682300Z",
     "start_time": "2025-01-26T10:42:48.416563Z"
    }
   },
   "outputs": [],
   "source": [
    "import empyrical"
   ]
  },
  {
   "cell_type": "code",
   "execution_count": 19,
   "id": "b0c844be",
   "metadata": {
    "ExecuteTime": {
     "end_time": "2025-01-26T10:42:49.761712400Z",
     "start_time": "2025-01-26T10:42:49.744682700Z"
    }
   },
   "outputs": [
    {
     "name": "stdout",
     "output_type": "stream",
     "text": [
      "年化收益率: 6.51%\n",
      "年化波动率: 25.49%\n"
     ]
    }
   ],
   "source": [
    "# 计算年化收益率\n",
    "annual_return = empyrical.annual_return(returns)\n",
    "print(f\"年化收益率: {annual_return * 100:.2f}%\")\n",
    "\n",
    "# 计算年化波动率\n",
    "annual_volatility = empyrical.annual_volatility(returns)\n",
    "print(f\"年化波动率: {annual_volatility * 100:.2f}%\")"
   ]
  },
  {
   "cell_type": "code",
   "execution_count": 20,
   "id": "8f606bf6",
   "metadata": {
    "ExecuteTime": {
     "end_time": "2025-01-26T10:42:49.806283600Z",
     "start_time": "2025-01-26T10:42:49.759201300Z"
    }
   },
   "outputs": [
    {
     "name": "stdout",
     "output_type": "stream",
     "text": [
      "夏普比率: 0.38\n",
      "夏普比率: 0.26\n"
     ]
    }
   ],
   "source": [
    "# 计算夏普比率\n",
    "sharpe_ratio = empyrical.sharpe_ratio(returns)\n",
    "print(f\"夏普比率: {sharpe_ratio:.2f}\")\n",
    "\n",
    "# 计算夏普比率\n",
    "sharpe_ratio = (annual_return- 0) / annual_volatility\n",
    "\n",
    "print(f\"夏普比率: {sharpe_ratio:.2f}\")"
   ]
  },
  {
   "cell_type": "code",
   "execution_count": 21,
   "id": "24159040",
   "metadata": {
    "ExecuteTime": {
     "end_time": "2025-01-26T10:42:49.807283300Z",
     "start_time": "2025-01-26T10:42:49.774223900Z"
    }
   },
   "outputs": [
    {
     "name": "stdout",
     "output_type": "stream",
     "text": [
      "最大回撤: -0.7230384458454895\n"
     ]
    }
   ],
   "source": [
    "# 计算最大回撤\n",
    "max_drawdown = empyrical.max_drawdown(returns)\n",
    "print(f\"最大回撤: {max_drawdown}\")"
   ]
  },
  {
   "cell_type": "code",
   "execution_count": 22,
   "id": "da3750ba",
   "metadata": {
    "ExecuteTime": {
     "end_time": "2025-01-26T10:42:49.861502700Z",
     "start_time": "2025-01-26T10:42:49.789251100Z"
    }
   },
   "outputs": [
    {
     "name": "stdout",
     "output_type": "stream",
     "text": [
      "卡玛比率: 0.09\n"
     ]
    }
   ],
   "source": [
    "# 计算卡玛比率\n",
    "calmar_ratio = empyrical.calmar_ratio(returns)\n",
    "print(f\"卡玛比率: {calmar_ratio:.2f}\")"
   ]
  },
  {
   "cell_type": "code",
   "execution_count": 22,
   "id": "1e181b6c",
   "metadata": {
    "ExecuteTime": {
     "end_time": "2025-01-26T10:42:49.863508100Z",
     "start_time": "2025-01-26T10:42:49.807283300Z"
    }
   },
   "outputs": [],
   "source": []
  }
 ],
 "metadata": {
  "kernelspec": {
   "display_name": "Python 3 (ipykernel)",
   "language": "python",
   "name": "python3"
  },
  "language_info": {
   "codemirror_mode": {
    "name": "ipython",
    "version": 3
   },
   "file_extension": ".py",
   "mimetype": "text/x-python",
   "name": "python",
   "nbconvert_exporter": "python",
   "pygments_lexer": "ipython3",
   "version": "3.9.10"
  }
 },
 "nbformat": 4,
 "nbformat_minor": 5
}
